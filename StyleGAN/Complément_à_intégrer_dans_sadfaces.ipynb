{
  "nbformat": 4,
  "nbformat_minor": 0,
  "metadata": {
    "colab": {
      "provenance": []
    },
    "kernelspec": {
      "name": "python3",
      "display_name": "Python 3"
    },
    "language_info": {
      "name": "python"
    }
  },
  "cells": [
    {
      "cell_type": "code",
      "source": [
        "import pandas as pd\n",
        "\n",
        "# Read the CSV file\n",
        "df = pd.read_csv('/content/sad_faces_metadata.csv')\n",
        "\n",
        "# Display original column order\n",
        "print(\"Original columns:\", df.columns.tolist())\n",
        "\n",
        "# Get all column names\n",
        "cols = df.columns.tolist()\n",
        "\n",
        "# Swap positions of second column (index 1) and third column (index 2)\n",
        "# This swaps \"seed\" and \"emotion_confidence\"\n",
        "cols[1], cols[2] = cols[2], cols[1]\n",
        "\n",
        "# Reorder the dataframe with swapped columns\n",
        "df = df[cols]\n",
        "\n",
        "# Display new column order\n",
        "print(\"New columns:\", df.columns.tolist())\n",
        "\n",
        "# Save the modified dataframe back to CSV\n",
        "df.to_csv('/content/data.csv', index=False)\n",
        "\n",
        "print(\"Columns swapped successfully!\")\n",
        "print(\"\\nFirst few rows of the modified data:\")\n",
        "print(df.head())"
      ],
      "metadata": {
        "colab": {
          "base_uri": "https://localhost:8080/"
        },
        "id": "o6oZgxea2uPr",
        "outputId": "fcf2d326-63ec-4558-f716-639b5484fbc5"
      },
      "execution_count": 2,
      "outputs": [
        {
          "output_type": "stream",
          "name": "stdout",
          "text": [
            "Original columns: ['full_path', 'seed', 'emotion_confidence', 'quality_score', 'original_caption', 'emotion_type']\n",
            "New columns: ['full_path', 'emotion_confidence', 'seed', 'quality_score', 'original_caption', 'emotion_type']\n",
            "Columns swapped successfully!\n",
            "\n",
            "First few rows of the modified data:\n",
            "                                         full_path  emotion_confidence   seed  \\\n",
            "0  stylegan3_images/data/stylegan_images/15448.jpg              0.9976  15448   \n",
            "1  stylegan3_images/data/stylegan_images/02825.jpg              0.9970   2825   \n",
            "2  stylegan3_images/data/stylegan_images/15416.jpg              0.9970  15416   \n",
            "3  stylegan3_images/data/stylegan_images/09029.jpg              0.9966   9029   \n",
            "4  stylegan3_images/data/stylegan_images/05667.jpg              0.9960   5667   \n",
            "\n",
            "   quality_score                                   original_caption  \\\n",
            "0         0.7744  Picture of a woman. The hair is blonde. Hair c...   \n",
            "1         0.6480  Picture of a woman. The hair is blonde. Hair c...   \n",
            "2         0.9443  Picture of a man with a pink shirt. The hair i...   \n",
            "3         0.8740  Picture of a young man with a cell. The hair i...   \n",
            "4         0.8750  Picture of a young boy with a hat on. The hair...   \n",
            "\n",
            "  emotion_type  \n",
            "0          sad  \n",
            "1          sad  \n",
            "2          sad  \n",
            "3          sad  \n",
            "4          sad  \n"
          ]
        }
      ]
    },
    {
      "cell_type": "code",
      "source": [
        "import pandas as pd\n",
        "import os\n",
        "\n",
        "# Load the CSV file\n",
        "file_path = '/content/data.csv'\n",
        "df = pd.read_csv(file_path)\n",
        "\n",
        "# Get the original column name (header)\n",
        "first_column_name = df.columns[0]\n",
        "\n",
        "# Process each cell in the first column (skip the header at index 0)\n",
        "for i in range(0, len(df)):\n",
        "    current_value = df.iloc[i, 0]\n",
        "\n",
        "    # Remove the path prefix \"stylegan3_images/data/stylegan_images/\"\n",
        "    if \"stylegan3_images/data/stylegan_images/\" in str(current_value):\n",
        "        cleaned_value = str(current_value).replace(\"stylegan3_images/data/stylegan_images/\", \"\")\n",
        "    else:\n",
        "        cleaned_value = str(current_value)\n",
        "\n",
        "    # Remove the \".jpg\" extension\n",
        "    if cleaned_value.endswith(\".jpg\"):\n",
        "        cleaned_value = cleaned_value[:-4]  # Remove last 4 characters (.jpg)\n",
        "\n",
        "    # Update the cell with the cleaned value\n",
        "    df.iloc[i, 0] = cleaned_value\n",
        "\n",
        "# Save the modified DataFrame back to the same file\n",
        "df.to_csv(file_path, index=False)\n",
        "\n",
        "print(\"CSV file has been successfully updated!\")\n",
        "print(f\"First column header: '{first_column_name}'\")\n",
        "print(\"Sample of cleaned first column values:\")\n",
        "print(df.iloc[1:6, 0].tolist())  # Show first 5 data rows"
      ],
      "metadata": {
        "colab": {
          "base_uri": "https://localhost:8080/"
        },
        "id": "GOP7XFGE4Nvk",
        "outputId": "36180e50-35a3-4e61-d1ee-24256d199e33"
      },
      "execution_count": 4,
      "outputs": [
        {
          "output_type": "stream",
          "name": "stdout",
          "text": [
            "CSV file has been successfully updated!\n",
            "First column header: 'full_path'\n",
            "Sample of cleaned first column values:\n",
            "['02825', '15416', '09029', '05667', '18213']\n"
          ]
        }
      ]
    }
  ]
}